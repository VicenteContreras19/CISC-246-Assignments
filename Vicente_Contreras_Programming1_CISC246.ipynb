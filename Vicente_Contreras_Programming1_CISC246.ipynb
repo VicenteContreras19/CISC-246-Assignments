{
  "cells": [
    {
      "cell_type": "markdown",
      "metadata": {
        "id": "NLYoft1aesiN"
      },
      "source": [
        "# CISC 246 Spring 2024 - Programming Assignment No.1 Part A - Graph Adjacency Lists\n",
        "\n",
        "In this Jupyter notebook you will find the following:\n",
        "\n",
        "* Section 1.) A Graph class that I wrote. This graph class represents graph's using adjacency lists. It is assumed that these graphs are UNDIRECTED and UNWEIGHTED graphs.\n",
        "\n",
        "* Section 2.) Instructions and sample code on how to use the graph class.\n",
        "\n",
        "* Section 3.) Coding tasks that you need to complete.\n",
        "\n",
        "Your tasks will be write functions (not methods) for the graph class. Yes, I understand that these should probably just be written as methods in the graph class, but for testing and automation purposes it is easier if you just write them as functions outside of the class, if that makes sense.\n",
        "\n",
        "The following functions will need to be written. More details below will be given in Section 3 after the graph class has been introduced and some sample usage of it.\n",
        "\n",
        "* Task 1.) `degree(adj_list: dict, v: str) -> int`\n",
        "\n",
        "* Task 2.) `number_edges(adj_list: dict) -> int`\n",
        "\n",
        "* Task 3.) `number_nodes(adj_list: dict) -> int`\n",
        "\n",
        "* Task 4.) `has_loop(adj_list: dict) -> bool`\n",
        "\n",
        "* Task 5.) `highest_degree_node(adj_list: dict) -> tuple[str, int]`\n",
        "\n",
        "* Task 6.) `has_isolated_node(adj_list: dict) -> bool`\n",
        "\n",
        "* Task 7.) `has_multi_edges(adj_list: dict) -> bool`\n",
        "\n",
        "* Task 8.) `is_simple(adj_list: dict) -> bool`\n",
        "\n",
        "* Task 9.) `is_connected(adj_list: dict) -> bool`\n",
        "\n",
        "* Task 10.) `is_minimally_connected(adj_list: dict) -> bool`\n",
        "\n"
      ]
    },
    {
      "cell_type": "markdown",
      "metadata": {
        "id": "9i69sF3ZiVmX"
      },
      "source": [
        "## Section 1: The Graph Class and some sample use (run all code in these cells)"
      ]
    },
    {
      "cell_type": "code",
      "execution_count": 10,
      "metadata": {
        "id": "rH6KSsssel7c"
      },
      "outputs": [],
      "source": [
        "#Graph Class to make our graph objects\n",
        "#Execute only. Not editable by students. Not viewable?\n",
        "class Graph:\n",
        "  def __init__(self, Nodes):\n",
        "    self.nodes = Nodes\n",
        "    self.adj_list = {} #dictionary\n",
        "    for node in self.nodes:\n",
        "      if node in self.adj_list:\n",
        "        print(node, \" is already in the graph\")\n",
        "      else:\n",
        "        self.adj_list[node] = []\n",
        "\n",
        "  def add_node(self, v):\n",
        "    \"\"\"\n",
        "    adds node to the graph\n",
        "    \"\"\"\n",
        "    if v in self.adj_list:\n",
        "      print(v, \" is already in the graph\")\n",
        "    else:\n",
        "      self.adj_list[v] = []\n",
        "\n",
        "  def add_edge(self, u, v):\n",
        "    \"\"\"\n",
        "    adds edge (u,v) to the graph\n",
        "    \"\"\"\n",
        "    if u not in self.adj_list:\n",
        "      print(u, \" not in the graph\")\n",
        "    elif v not in self.adj_list:\n",
        "      print(v, \" not in the graph\")\n",
        "    else:\n",
        "      self.adj_list[u].append(v)\n",
        "      self.adj_list[v].append(u)\n",
        "\n",
        "  def print_adj_list(self):\n",
        "    \"\"\"\n",
        "    prints the adjacency list. visual tool\n",
        "    \"\"\"\n",
        "    for node in self.adj_list:\n",
        "        print(node, \"->\", self.adj_list[node])\n",
        "\n",
        "  def dfs_iterative(self, v):\n",
        "    \"\"\"\n",
        "    Depth First Search Iterative Version.\n",
        "    Performs Depth First Search starting at node v\n",
        "    \"\"\"\n",
        "    if v not in self.adj_list:\n",
        "      print(v, \" is not in the graph\")\n",
        "    else:\n",
        "      visited = set((v,))\n",
        "      output = [v]\n",
        "      stack = [v]\n",
        "\n",
        "      while stack:\n",
        "        node = stack.pop()\n",
        "        if node not in visited:\n",
        "          output.append(node)\n",
        "          visited.add(node)\n",
        "        for neighbor in self.adj_list[node]:\n",
        "              if neighbor not in visited:\n",
        "                  stack.append(neighbor)\n",
        "      return output\n",
        "\n",
        "\n",
        "  def delete_node(self, v):\n",
        "    \"\"\"\n",
        "    deletes the node v from the graph\n",
        "    \"\"\"\n",
        "    if v not in self.adj_list:\n",
        "      print(v, \"is not in graph adjacency list\")\n",
        "    else:\n",
        "      #remove the linked list for node v\n",
        "      self.adj_list.pop(v)\n",
        "\n",
        "      #search for v in all the other linked lists for each node of the graph\n",
        "      for node in self.adj_list:\n",
        "        list1 = self.adj_list[node]\n",
        "        if v in list1:\n",
        "          list1.remove(v)\n",
        "\n",
        "  def delete_edge(self, u, v):\n",
        "    \"\"\"\n",
        "    deletes the edge (u,v) from the graph\n",
        "    \"\"\"\n",
        "    if u not in self.adj_list:\n",
        "      print(u, \" is not present in the graph\")\n",
        "    elif v not in self.adj_list:\n",
        "      print(v, \" is not present in the graph\")\n",
        "    else:\n",
        "      if v in self.adj_list[u]: #first check if the edge is present in the graph\n",
        "        self.adj_list[u].remove(v)\n",
        "        self.adj_list[v].remove(u)"
      ]
    },
    {
      "cell_type": "markdown",
      "metadata": {
        "id": "m26SE2K9iglE"
      },
      "source": [
        "## Section 2 - Instantiating graph objects and visualizing the graph's adjacency list\n",
        "\n",
        "Running the code cell below will instantiate graphs 2-7. Just think of them as a wide variety of graphs. Some are connected. Some are not. Some have loops. Some do not. If you need to create another graph to test one of the functions you write in Section 3, then you can do so by following some of the code you see below.\n",
        "\n",
        "Some things to note about this graph class implementation.\n",
        "\n",
        "* Suppose you created a graph object and stored it in variable `G`. Then you could access the adjacency list by typing `G.adj_list`\n",
        "\n",
        "* The adjacency list structure was created by using the Python built-in dictionary (`dict`). See the official Python documentation here:\n",
        "https://docs.python.org/3/library/stdtypes.html#typesmapping\n",
        "\n",
        "* What this means for you is the following:\n",
        "  * nodes are referenced by Strings. For example, if you wanted access the list of nodes that node \"0\" in graph $G$ was incident with (i.e. adjacent to), then you could type `G.adj_list[\"0\"]`\n",
        "\n",
        "Python is friendly in the sense that you can dynamically type and 'speak' with it. If you are curious about what the variable is holding, simply using the command `print()`. For example, `print(G.adj_list[\"0\"])`"
      ]
    },
    {
      "cell_type": "code",
      "execution_count": 11,
      "metadata": {
        "colab": {
          "base_uri": "https://localhost:8080/"
        },
        "id": "afuLrdKgin_U",
        "outputId": "5a6d426e-2cb7-4112-9c1d-684c818cb199"
      },
      "outputs": [
        {
          "name": "stdout",
          "output_type": "stream",
          "text": [
            "Graph 2 Adjacency List\n",
            "0 -> ['1', '2', '3']\n",
            "1 -> ['0', '2']\n",
            "2 -> ['0', '1', '4']\n",
            "3 -> ['0']\n",
            "4 -> ['2']\n",
            "###################\n",
            "Graph 3 Adjacency List\n",
            "0 -> ['0', '0', '1']\n",
            "1 -> ['0', '2']\n",
            "2 -> ['1']\n",
            "#####################\n",
            "Graph 4 Adjacency List\n",
            "0 -> ['0', '0', '0', '0', '1']\n",
            "1 -> ['0', '2']\n",
            "2 -> ['1']\n",
            "#####################\n",
            "Graph 5 Adjacency List\n",
            "0 -> ['1', '1']\n",
            "1 -> ['0', '0', '3', '2']\n",
            "2 -> ['1']\n",
            "3 -> ['1']\n",
            "#####################\n",
            "Graph 6 Adjacency List\n",
            "0 -> ['1']\n",
            "1 -> ['0', '2']\n",
            "2 -> ['1', '3']\n",
            "3 -> ['2', '4']\n",
            "4 -> ['3']\n",
            "5 -> ['6']\n",
            "6 -> ['5']\n",
            "#####################\n",
            "Graph 7 Adjacency List\n",
            "0 -> ['1']\n",
            "1 -> ['0', '2']\n",
            "2 -> ['1', '3']\n",
            "3 -> ['2', '4']\n",
            "4 -> ['3', '5']\n",
            "5 -> ['4', '6']\n",
            "6 -> ['5']\n",
            "#####################\n",
            "Graph 8 Adjacency List\n",
            "0 -> ['2', '3']\n",
            "1 -> []\n",
            "2 -> ['0']\n",
            "3 -> ['0']\n",
            "#####################\n",
            "Graph 9 Adjacency List\n",
            "0 -> ['0', '0', '2', '3']\n",
            "1 -> ['1', '1']\n",
            "2 -> ['0']\n",
            "3 -> ['0']\n"
          ]
        }
      ],
      "source": [
        "#make some graph object that students will need to play with\n",
        "nodes2 = [\"0\", \"1\", \"2\", \"3\", \"4\"]\n",
        "graph2 = Graph(nodes2)\n",
        "all_edges2 = [\n",
        "    (\"0\", \"1\"), (\"0\", \"2\"), (\"0\", \"3\"),\n",
        "    (\"1\", \"2\"),\n",
        "    (\"2\", \"4\")\n",
        "]\n",
        "for u,v in all_edges2:\n",
        "  graph2.add_edge(u, v)\n",
        "\n",
        "print(\"Graph 2 Adjacency List\")\n",
        "graph2.print_adj_list()\n",
        "\n",
        "\n",
        "print(\"###################\")\n",
        "nodes3 = [ \"0\", \"1\", \"2\"]\n",
        "graph3 = Graph(nodes3)\n",
        "\n",
        "all_edges3 = [\n",
        "    (\"0\", \"0\"), (\"0\", \"1\"),\n",
        "    (\"1\", \"2\"),\n",
        "]\n",
        "for u,v in all_edges3:\n",
        "  graph3.add_edge(u, v)\n",
        "\n",
        "print(\"Graph 3 Adjacency List\")\n",
        "\n",
        "graph3.print_adj_list()\n",
        "\n",
        "\n",
        "print(\"#####################\")\n",
        "\n",
        "graph4_nodes = [\"0\", \"1\", \"2\"]\n",
        "graph4 = Graph(graph4_nodes)\n",
        "\n",
        "all_edges4 = [\n",
        "    (\"0\", \"0\"),\n",
        "    (\"0\", \"0\"),\n",
        "    (\"0\", \"1\"),\n",
        "    (\"1\", \"2\"),\n",
        "]\n",
        "\n",
        "for (u,v) in all_edges4:\n",
        "  graph4.add_edge(u,v)\n",
        "\n",
        "print(\"Graph 4 Adjacency List\")\n",
        "graph4.print_adj_list()\n",
        "\n",
        "print(\"#####################\")\n",
        "graph5_nodes = [\"0\", \"1\", \"2\", \"3\"]\n",
        "graph5 = Graph(graph5_nodes)\n",
        "\n",
        "all_edges5 = [\n",
        "    (\"0\", \"1\"),\n",
        "    (\"0\", \"1\"),\n",
        "    (\"1\", \"3\"),\n",
        "    (\"1\", \"2\"),\n",
        "]\n",
        "\n",
        "for (u,v) in all_edges5:\n",
        "  graph5.add_edge(u,v)\n",
        "\n",
        "print(\"Graph 5 Adjacency List\")\n",
        "graph5.print_adj_list()\n",
        "\n",
        "print(\"#####################\")\n",
        "graph6_nodes = [\"0\", \"1\", \"2\", \"3\", \"4\", \"5\", \"6\"]\n",
        "graph6 = Graph(graph6_nodes)\n",
        "\n",
        "all_edges6 = [\n",
        "    (\"0\", \"1\"),\n",
        "    (\"1\", \"2\"),\n",
        "    (\"2\", \"3\"),\n",
        "    (\"3\", \"4\"),\n",
        "    (\"5\", \"6\")\n",
        "]\n",
        "\n",
        "for (u,v) in all_edges6:\n",
        "  graph6.add_edge(u,v)\n",
        "\n",
        "print(\"Graph 6 Adjacency List\")\n",
        "graph6.print_adj_list()\n",
        "\n",
        "\n",
        "print(\"#####################\")\n",
        "graph7_nodes = [\"0\", \"1\", \"2\", \"3\", \"4\", \"5\", \"6\"]\n",
        "graph7 = Graph(graph7_nodes)\n",
        "\n",
        "all_edges7 = [\n",
        "    (\"0\", \"1\"),\n",
        "    (\"1\", \"2\"),\n",
        "    (\"2\", \"3\"),\n",
        "    (\"3\", \"4\"),\n",
        "    (\"4\", \"5\"),\n",
        "    (\"5\", \"6\")\n",
        "]\n",
        "\n",
        "for (u,v) in all_edges7:\n",
        "  graph7.add_edge(u,v)\n",
        "\n",
        "print(\"Graph 7 Adjacency List\")\n",
        "graph7.print_adj_list()\n",
        "\n",
        "\n",
        "\n",
        "print(\"#####################\")\n",
        "graph8_nodes = [\"0\", \"1\", \"2\", \"3\"]\n",
        "graph8 = Graph(graph8_nodes)\n",
        "\n",
        "all_edges8 = [\n",
        "    (\"0\", \"2\"),\n",
        "    (\"0\", \"3\"),\n",
        "]\n",
        "\n",
        "for (u,v) in all_edges8:\n",
        "  graph8.add_edge(u,v)\n",
        "\n",
        "print(\"Graph 8 Adjacency List\")\n",
        "graph8.print_adj_list()\n",
        "\n",
        "\n",
        "\n",
        "print(\"#####################\")\n",
        "graph9_nodes = [\"0\", \"1\", \"2\", \"3\"]\n",
        "graph9 = Graph(graph9_nodes)\n",
        "\n",
        "all_edges9 = [\n",
        "    (\"0\", \"0\"),\n",
        "    (\"0\", \"2\"),\n",
        "    (\"0\", \"3\"),\n",
        "    (\"1\", \"1\")\n",
        "]\n",
        "\n",
        "for (u,v) in all_edges9:\n",
        "  graph9.add_edge(u,v)\n",
        "\n",
        "print(\"Graph 9 Adjacency List\")\n",
        "graph9.print_adj_list()"
      ]
    },
    {
      "cell_type": "markdown",
      "metadata": {
        "id": "ksaoQugnmPMe"
      },
      "source": [
        "## Section 3.) Programming Tasks\n",
        "\n",
        "Each Task you will be given a\n",
        "* description of the expected functionality,\n",
        "\n",
        "* a code cell below for you to code/type your function,\n",
        "\n",
        "* and then another cell below that with automated grader unit tests that I wrote.\n",
        "\n",
        "Your function must pass these tests in order to receive full credit."
      ]
    },
    {
      "cell_type": "markdown",
      "metadata": {
        "id": "t-OUB3ikmSyj"
      },
      "source": [
        "### Task 1.) Degree of a Node\n",
        "\n",
        "Write a Python function `degree(adj_list: dict, node: str) -> int` that takes the following inputs:\n",
        "*   `adj_list` := the adjacency list of a graph $G$\n",
        "*   `node` := the node in the graph that you will calculate the degree of\n",
        "\n",
        "The function `degree(adj_list, node)` will output the degree of `node` from the graph $G$'s `adj_list`.\n",
        "\n",
        "For example, suppose a graph $G$ has the following adjacency list:\n",
        "\n",
        "`0 -> ['1', '2', '3']`\n",
        "\n",
        "`1 -> ['0', '2']`\n",
        "\n",
        "`2 -> ['0', '1', '4']`\n",
        "\n",
        "`3 -> ['0']`\n",
        "\n",
        "`4 -> ['2']`\n",
        "\n",
        "Then, `degree(G.adj_list, \"1\") = 2`, and `degree(G.adj_list, \"3\") = 1`."
      ]
    },
    {
      "cell_type": "code",
      "execution_count": 12,
      "metadata": {
        "id": "LkzFM8LomRck"
      },
      "outputs": [],
      "source": [
        "def degree(adj_list: dict, node: str) -> int:\n",
        "    if node in adj_list:\n",
        "        return len(adj_list[node])\n",
        "    return 0"
      ]
    },
    {
      "cell_type": "code",
      "execution_count": 13,
      "metadata": {
        "colab": {
          "base_uri": "https://localhost:8080/"
        },
        "id": "7vOW0zXdnLqQ",
        "outputId": "6e1f40ac-a4cc-4a3a-f2c0-b412ba2c1017"
      },
      "outputs": [
        {
          "name": "stderr",
          "output_type": "stream",
          "text": [
            "..\n",
            "----------------------------------------------------------------------\n",
            "Ran 2 tests in 0.002s\n",
            "\n",
            "OK\n"
          ]
        },
        {
          "data": {
            "text/plain": [
              "<unittest.runner.TextTestResult run=2 errors=0 failures=0>"
            ]
          },
          "execution_count": 13,
          "metadata": {},
          "output_type": "execute_result"
        }
      ],
      "source": [
        "import unittest\n",
        "\n",
        "class TestDegree(unittest.TestCase):\n",
        "    def test1_degree(self):\n",
        "      'test cases function for degree()'\n",
        "      self.assertEqual(degree(graph2.adj_list, \"1\"), 2)\n",
        "\n",
        "    def test2_degree(self):\n",
        "      'test cases function for degree()'\n",
        "      self.assertEqual(degree(graph4.adj_list, \"0\"), 5)\n",
        "\n",
        "runner = unittest.TextTestRunner()\n",
        "runner.run(unittest.makeSuite(TestDegree))"
      ]
    },
    {
      "cell_type": "markdown",
      "metadata": {},
      "source": []
    },
    {
      "cell_type": "markdown",
      "metadata": {
        "id": "osTkHIb8nOWw"
      },
      "source": [
        "### Task 2.) Number of Edges\n",
        "\n",
        "Write a Python function `number_edges(adj_list: dict) -> int` that takes the following inputs:\n",
        "*   `adj_list` := the adjacency list of a graph $G$\n",
        "\n",
        "The function `number_edges(adj_list, node)` will output the number of edges contained in the graph $G$ from the adjacency list `adj_list`\n",
        "\n",
        "For example, suppose a graph $G$ has the following adjacency list:\n",
        "\n",
        "`0 -> ['1', '2', '3']`\n",
        "\n",
        "`1 -> ['0', '2']`\n",
        "\n",
        "`2 -> ['0', '1', '4']`\n",
        "\n",
        "`3 -> ['0']`\n",
        "\n",
        "`4 -> ['2']`\n",
        "\n",
        "Then, `number_edges(G.adj_list) = 5`"
      ]
    },
    {
      "cell_type": "code",
      "execution_count": 14,
      "metadata": {
        "id": "BvyBQHRvna4E"
      },
      "outputs": [],
      "source": [
        "def number_edges(adj_list: dict) -> int:\n",
        "    edge_count = sum(len(neighbors) for neighbors in adj_list.values())\n",
        "    return edge_count // 2  ## divided by two. Avoid edges being counted twice in an undirected graoh"
      ]
    },
    {
      "cell_type": "code",
      "execution_count": 15,
      "metadata": {
        "colab": {
          "base_uri": "https://localhost:8080/"
        },
        "id": "Q0Y-2qVcnuiN",
        "outputId": "f4e4f174-3ca9-44e4-8d41-2d12a9b2c569"
      },
      "outputs": [
        {
          "name": "stderr",
          "output_type": "stream",
          "text": [
            "..\n",
            "----------------------------------------------------------------------\n",
            "Ran 2 tests in 0.002s\n",
            "\n",
            "OK\n"
          ]
        },
        {
          "data": {
            "text/plain": [
              "<unittest.runner.TextTestResult run=2 errors=0 failures=0>"
            ]
          },
          "execution_count": 15,
          "metadata": {},
          "output_type": "execute_result"
        }
      ],
      "source": [
        "import unittest\n",
        "\n",
        "class TestNumberEdges(unittest.TestCase):\n",
        "    def test1_number_edges(self):\n",
        "      'test cases function for number_edges()'\n",
        "      self.assertEqual(number_edges(graph2.adj_list), 5)\n",
        "\n",
        "    def test2_degree(self):\n",
        "      'test cases function for number_edges()'\n",
        "      self.assertEqual(number_edges(graph5.adj_list), 4)\n",
        "\n",
        "runner = unittest.TextTestRunner()\n",
        "runner.run(unittest.makeSuite(TestNumberEdges))"
      ]
    },
    {
      "cell_type": "markdown",
      "metadata": {
        "id": "xR-8UFSAnw6m"
      },
      "source": [
        "### Task 3. Number of Nodes\n",
        "\n",
        "Write a Python function `number_nodes(adj_list: dict) -> int` that takes the following inputs:\n",
        "*   `adj_list` := the adjacency list of a graph $G$\n",
        "\n",
        "The function `number_nodes(adj_list, node)` will output the number of nodes contained in the graph $G$ from the adjacency list `adj_list`\n",
        "\n",
        "For example, suppose a graph $G$ has the following adjacency list:\n",
        "\n",
        "`0 -> ['1', '2', '3']`\n",
        "\n",
        "`1 -> ['0', '2']`\n",
        "\n",
        "`2 -> ['0', '1', '4']`\n",
        "\n",
        "`3 -> ['0']`\n",
        "\n",
        "`4 -> ['2']`\n",
        "\n",
        "Then, `number_nodes(G.adj_list) = 5`"
      ]
    },
    {
      "cell_type": "code",
      "execution_count": 16,
      "metadata": {
        "id": "CVLXUCrTn5fu"
      },
      "outputs": [],
      "source": [
        "def number_nodes(adj_list: dict) -> int:\n",
        "    return len(adj_list)\n"
      ]
    },
    {
      "cell_type": "code",
      "execution_count": 17,
      "metadata": {
        "colab": {
          "base_uri": "https://localhost:8080/"
        },
        "id": "-sTjlbSIn9Fb",
        "outputId": "e6739660-9e3f-4ce2-8dc0-9954c2bb8388"
      },
      "outputs": [
        {
          "name": "stderr",
          "output_type": "stream",
          "text": [
            "..\n",
            "----------------------------------------------------------------------\n",
            "Ran 2 tests in 0.002s\n",
            "\n",
            "OK\n"
          ]
        },
        {
          "data": {
            "text/plain": [
              "<unittest.runner.TextTestResult run=2 errors=0 failures=0>"
            ]
          },
          "execution_count": 17,
          "metadata": {},
          "output_type": "execute_result"
        }
      ],
      "source": [
        "import unittest\n",
        "\n",
        "class NumberNodes(unittest.TestCase):\n",
        "    def test1_number_nodes(self):\n",
        "      'test cases function for number_nodes()'\n",
        "      self.assertEqual(number_nodes(graph2.adj_list), 5)\n",
        "\n",
        "    def test2_degree(self):\n",
        "      'test cases function for number_nodes()'\n",
        "      self.assertEqual(number_nodes(graph3.adj_list), 3)\n",
        "\n",
        "runner = unittest.TextTestRunner()\n",
        "runner.run(unittest.makeSuite(NumberNodes))"
      ]
    },
    {
      "cell_type": "markdown",
      "metadata": {
        "id": "esFyXmmtn_Sg"
      },
      "source": [
        "### Task 4. Has Loop(s)\n",
        "\n",
        "Write a Python function `has_loops(adj_list: dict) -> bool`\n",
        "*   `adj_list` := the adjacency list of a graph $G$\n",
        "\n",
        "The function `has_loops(adj_list)` will output `True` if the graph $G$'s `adj_list` has a loop, and `False` otherwise\n",
        "\n",
        "\n",
        "For example, suppose a graph $G$ has the following adjacency list:\n",
        "\n",
        "`0 -> ['0', '0', '1']`\n",
        "\n",
        "`1 -> ['0', '2']`\n",
        "\n",
        "`2 -> ['1']`\n",
        "\n",
        "Then,\n",
        "\n",
        "`has_loops(G.adj_list) = True`"
      ]
    },
    {
      "cell_type": "code",
      "execution_count": 18,
      "metadata": {
        "id": "PQ_D8AOYoJg8"
      },
      "outputs": [],
      "source": [
        "##write your code here for Programming Task 4.) Has Loops\n",
        "def has_loops(adj_list: dict) -> bool:\n",
        "    for node, neighbors in adj_list.items():\n",
        "        if node in neighbors:  # Here we are checking to see if the node is in its own adjacency list (self-loop)\n",
        "            return True\n",
        "    return False"
      ]
    },
    {
      "cell_type": "code",
      "execution_count": 19,
      "metadata": {
        "colab": {
          "base_uri": "https://localhost:8080/"
        },
        "id": "k45QcXeePAb-",
        "outputId": "1dcbed59-d1df-462e-a674-1fecdaf28f1f"
      },
      "outputs": [
        {
          "name": "stderr",
          "output_type": "stream",
          "text": [
            "..\n",
            "----------------------------------------------------------------------\n",
            "Ran 2 tests in 0.001s\n",
            "\n",
            "OK\n"
          ]
        },
        {
          "data": {
            "text/plain": [
              "<unittest.runner.TextTestResult run=2 errors=0 failures=0>"
            ]
          },
          "execution_count": 19,
          "metadata": {},
          "output_type": "execute_result"
        }
      ],
      "source": [
        "import unittest\n",
        "\n",
        "class HasLoops(unittest.TestCase):\n",
        "    def test1_has_loops(self):\n",
        "      'test cases function for has_loops()'\n",
        "      self.assertEqual(has_loops(graph2.adj_list), False)\n",
        "\n",
        "    def test2_has_loops(self):\n",
        "      'test cases function for has_loops()'\n",
        "      self.assertEqual(has_loops(graph3.adj_list), True)\n",
        "\n",
        "runner = unittest.TextTestRunner()\n",
        "runner.run(unittest.makeSuite(HasLoops))"
      ]
    },
    {
      "cell_type": "markdown",
      "metadata": {
        "id": "YUpKFTcaPCMK"
      },
      "source": [
        "### Task 5. Highest Degree Node\n",
        "\n",
        "Write a Python function `highest_degree_node(adj_list: dict) -> tuple[str, int]` that takes the following inputs:\n",
        "*   `adj_list` := the adjacency list of a graph $G$\n",
        "\n",
        "The function `highest_degree_node(adj_list)` will output a tuple where the first component is the node of highest degree and the second component is the degree of that node.\n",
        "\n",
        "In the case that there is a tie of more than one node, then the function will return one of the nodes with highest degree. It will not return all instances of nodes that reach that maximum degree.\n",
        "\n",
        "For example, suppose a graph $G$ has the following adjacency list:\n",
        "\n",
        "`0 -> ['1', '2', '3']`\n",
        "\n",
        "`1 -> ['0', '2']`\n",
        "\n",
        "`2 -> ['0', '1', '4']`\n",
        "\n",
        "`3 -> ['0']`\n",
        "\n",
        "`4 -> ['2']`\n",
        "\n",
        "Then,\n",
        "\n",
        "`highest_degree_node(G.adj_list) = (\"0\", 3)`\n"
      ]
    },
    {
      "cell_type": "code",
      "execution_count": 20,
      "metadata": {
        "id": "S6MHCar2PVDc"
      },
      "outputs": [],
      "source": [
        "def highest_degree_node(adj_list: dict) -> tuple[str, int]:\n",
        "    max_degree = 0\n",
        "    max_node = None\n",
        "\n",
        "    for node, neighbors in adj_list.items():\n",
        "        degree = len(neighbors)\n",
        "        if degree > max_degree:\n",
        "            max_degree = degree\n",
        "            max_node = node\n",
        "\n",
        "    return (max_node, max_degree)"
      ]
    },
    {
      "cell_type": "code",
      "execution_count": 21,
      "metadata": {
        "colab": {
          "base_uri": "https://localhost:8080/"
        },
        "id": "D4YfkF4hPbj1",
        "outputId": "69016ddf-895f-492e-cb7c-68783599faf9"
      },
      "outputs": [
        {
          "name": "stderr",
          "output_type": "stream",
          "text": [
            ".\n",
            "----------------------------------------------------------------------\n",
            "Ran 1 test in 0.001s\n",
            "\n",
            "OK\n"
          ]
        },
        {
          "data": {
            "text/plain": [
              "<unittest.runner.TextTestResult run=1 errors=0 failures=0>"
            ]
          },
          "execution_count": 21,
          "metadata": {},
          "output_type": "execute_result"
        }
      ],
      "source": [
        "import unittest\n",
        "\n",
        "class HighestDegreeNode(unittest.TestCase):\n",
        "    def test1_highest_degree_node(self):\n",
        "      'test cases function for highest_degree_node()'\n",
        "      self.assertEqual(highest_degree_node(graph2.adj_list), ('0', 3))\n",
        "\n",
        "runner = unittest.TextTestRunner()\n",
        "runner.run(unittest.makeSuite(HighestDegreeNode))\n"
      ]
    },
    {
      "cell_type": "markdown",
      "metadata": {
        "id": "Cxki8vnAPeJE"
      },
      "source": [
        "### Task 6. Has Isolated Node(s)\n",
        "\n",
        "Write a Python function `has_isolated_node(adj_list: dict) -> bool` that takes the following inputs:\n",
        "*   `adj_list` := the adjacency list of a graph $G$\n",
        "\n",
        "The function `has_isolated_node(adj_list)` will `True` if the graph $G$ has at least one isolated node, and `False` otherwise.\n",
        "\n",
        "\n",
        "For example, suppose a graph $G$ has the following adjacency list:\n",
        "\n",
        "`0 -> ['1', '2', '3']`\n",
        "\n",
        "`1 -> ['0', '2']`\n",
        "\n",
        "`2 -> ['0', '1', '4']`\n",
        "\n",
        "`3 -> ['0']`\n",
        "\n",
        "`4 -> ['2']`\n",
        "\n",
        "Then,\n",
        "\n",
        "`has_isolated_node(G.adj_list) = False`"
      ]
    },
    {
      "cell_type": "code",
      "execution_count": 22,
      "metadata": {
        "id": "vljaB5lbP6xX"
      },
      "outputs": [
        {
          "name": "stdout",
          "output_type": "stream",
          "text": [
            "{'0': ['0', '0', '2', '3'], '1': ['1', '1'], '2': ['0'], '3': ['0']}\n"
          ]
        }
      ],
      "source": [
        "print(graph9.adj_list)\n",
        "\n",
        "def has_isolated_node(adj_list: dict) -> bool:\n",
        "    for node, neighbors in adj_list.items():\n",
        "        if len(neighbors) == 0:  # Check if the node has no neighbors (isolated)\n",
        "            return True\n",
        "    return False\n",
        "\n",
        "\n",
        "\n"
      ]
    },
    {
      "cell_type": "code",
      "execution_count": 23,
      "metadata": {
        "colab": {
          "base_uri": "https://localhost:8080/"
        },
        "id": "IYSDLdyaP-2G",
        "outputId": "a888957b-02eb-47a2-a0fb-59d1e6b842e6"
      },
      "outputs": [
        {
          "name": "stderr",
          "output_type": "stream",
          "text": [
            "....\n",
            "----------------------------------------------------------------------\n",
            "Ran 4 tests in 0.003s\n",
            "\n",
            "OK\n"
          ]
        },
        {
          "data": {
            "text/plain": [
              "<unittest.runner.TextTestResult run=4 errors=0 failures=0>"
            ]
          },
          "execution_count": 23,
          "metadata": {},
          "output_type": "execute_result"
        }
      ],
      "source": [
        "import unittest\n",
        "\n",
        "class HasIsolatedNode(unittest.TestCase):\n",
        "    def test1_has_isolated_node(self):\n",
        "      'test cases function for has_isolated_node()'\n",
        "      self.assertEqual(has_isolated_node(graph2.adj_list), False)\n",
        "\n",
        "    def test2_has_isolated_node(self):\n",
        "      'test cases function for has_isolated_node()'\n",
        "      self.assertEqual(has_isolated_node(graph3.adj_list), False)\n",
        "\n",
        "    def test_3_has_isolated_node(self):\n",
        "      'test case 3 for has_isolated_node()'\n",
        "      self.assertEqual(has_isolated_node(graph8.adj_list), True)\n",
        "\n",
        "    def test_4_has_isolated_node(self):\n",
        "      'test case 4 for has_isolated_node()'\n",
        "      self.assertEqual(has_isolated_node(graph9.adj_list), False)\n",
        "\n",
        "\n",
        "\n",
        "runner = unittest.TextTestRunner()\n",
        "runner.run(unittest.makeSuite(HasIsolatedNode))"
      ]
    },
    {
      "cell_type": "markdown",
      "metadata": {
        "id": "pFyulf6tQApg"
      },
      "source": [
        "### Task 7. Has Multiple Edges\n",
        "\n",
        "Write a Python function `has_multi_edges(adj_list: dict) -> bool`\n",
        "*   `adj_list` := the adjacency list of a graph $G$\n",
        "\n",
        "The function `has_multi_edges(adj_list)` will output `True` if the graph $G$'s `adj_list` has multiple edges, and `False` otherwise\n",
        "\n",
        "\n",
        "For example, suppose a graph $G$ has the following adjacency list:\n",
        "\n",
        "`0 -> ['1', '1']`\n",
        "\n",
        "`1 -> ['0', '0', '3', '2']`\n",
        "\n",
        "`2 -> ['1']`\n",
        "\n",
        "`3 -> ['1']`\n",
        "\n",
        "Then,\n",
        "\n",
        "`has_multi_edges(G.adj_list) = True`"
      ]
    },
    {
      "cell_type": "code",
      "execution_count": 24,
      "metadata": {
        "id": "LvvISRq1QIKO"
      },
      "outputs": [],
      "source": [
        "def has_multi_edges(adj_list: dict) -> bool:\n",
        "    for node, neighbors in adj_list.items():\n",
        "        if len(neighbors) != len(set(neighbors)):  # Check if there are duplicates\n",
        "            return True\n",
        "    return False\n"
      ]
    },
    {
      "cell_type": "code",
      "execution_count": 25,
      "metadata": {
        "colab": {
          "base_uri": "https://localhost:8080/"
        },
        "id": "r0HyAH-8QXja",
        "outputId": "db2688bb-dfa0-4507-a4a4-207f6689f1aa"
      },
      "outputs": [
        {
          "name": "stderr",
          "output_type": "stream",
          "text": [
            "..\n",
            "----------------------------------------------------------------------\n",
            "Ran 2 tests in 0.002s\n",
            "\n",
            "OK\n"
          ]
        },
        {
          "data": {
            "text/plain": [
              "<unittest.runner.TextTestResult run=2 errors=0 failures=0>"
            ]
          },
          "execution_count": 25,
          "metadata": {},
          "output_type": "execute_result"
        }
      ],
      "source": [
        "import unittest\n",
        "\n",
        "class HasMultiEdges(unittest.TestCase):\n",
        "    def test1_has_multi_edges(self):\n",
        "      'test cases function for has_multi_edges()'\n",
        "      self.assertEqual(has_multi_edges(graph2.adj_list), False)\n",
        "\n",
        "    def test2_has_multi_edges(self):\n",
        "      'test cases function for has_multi_edges()'\n",
        "      self.assertEqual(has_multi_edges(graph5.adj_list), True)\n",
        "\n",
        "runner = unittest.TextTestRunner()\n",
        "runner.run(unittest.makeSuite(HasMultiEdges))"
      ]
    },
    {
      "cell_type": "markdown",
      "metadata": {
        "id": "oy4ExWZfQZPh"
      },
      "source": [
        "### Task 8. Is Simple\n",
        "\n",
        "Write a Python function `is_simple(adj_list: dict) -> bool`\n",
        "*   `adj_list` := the adjacency list of a graph $G$\n",
        "\n",
        "The function `is_simple(adj_list)` will output `True` if the graph $G$'s `adj_list` represents a simple graph, and `False` otherwise\n",
        "\n",
        "\n",
        "For example, suppose a graph $G$ has the following adjacency list:\n",
        "\n",
        "`0 -> ['1', '1']`\n",
        "\n",
        "`1 -> ['0', '0', '3', '2']`\n",
        "\n",
        "`2 -> ['1']`\n",
        "\n",
        "`3 -> ['1']`\n",
        "\n",
        "Then,\n",
        "\n",
        "`is_simple(G.adj_list) = False`"
      ]
    },
    {
      "cell_type": "code",
      "execution_count": 26,
      "metadata": {
        "id": "CbgH-dChQh-P"
      },
      "outputs": [],
      "source": [
        "def is_simple(adj_list: dict) -> bool:\n",
        "    for node, neighbors in adj_list.items():  # Check for self-loops\n",
        "        if node in neighbors:                 # Check for multiple edges\n",
        "            return False\n",
        "        if len(neighbors) != len(set(neighbors)):\n",
        "            return False\n",
        "    return True\n"
      ]
    },
    {
      "cell_type": "code",
      "execution_count": 27,
      "metadata": {
        "colab": {
          "base_uri": "https://localhost:8080/"
        },
        "id": "1Bnlwzs1QmNO",
        "outputId": "3aa433e0-4ec7-44b9-dff2-5352bb549aef"
      },
      "outputs": [
        {
          "name": "stderr",
          "output_type": "stream",
          "text": [
            "..\n",
            "----------------------------------------------------------------------\n",
            "Ran 2 tests in 0.001s\n",
            "\n",
            "OK\n"
          ]
        },
        {
          "data": {
            "text/plain": [
              "<unittest.runner.TextTestResult run=2 errors=0 failures=0>"
            ]
          },
          "execution_count": 27,
          "metadata": {},
          "output_type": "execute_result"
        }
      ],
      "source": [
        "import unittest\n",
        "\n",
        "\n",
        "class IsSimple(unittest.TestCase):\n",
        "    def test1_is_simple(self):\n",
        "      'test cases function for is_simple()'\n",
        "      self.assertEqual(is_simple(graph2.adj_list), True)\n",
        "\n",
        "    def test2_is_simple(self):\n",
        "      'test cases function for is_simple()'\n",
        "      self.assertEqual(is_simple(graph5.adj_list), False)\n",
        "\n",
        "runner = unittest.TextTestRunner()\n",
        "runner.run(unittest.makeSuite(IsSimple))"
      ]
    },
    {
      "cell_type": "markdown",
      "metadata": {
        "id": "0cG0lePTQuNh"
      },
      "source": [
        "### Task 9. Is Connected\n",
        "\n",
        "Write a Python function `is_connected(adj_list: dict) -> bool` that takes the following inputs:\n",
        "*   `adj_list` := the adjacency list of a graph $G$\n",
        "\n",
        "The function `is_connected(adj_list)` will output `True` if the graph $G$ is connected, and `False` otherwise.\n",
        "\n",
        "For example, suppose a graph $G$ has the following adjacency list:\n",
        "\n",
        "`0 -> ['1', '2', '3']`\n",
        "\n",
        "`1 -> ['0', '2']`\n",
        "\n",
        "`2 -> ['0', '1', '4']`\n",
        "\n",
        "`3 -> ['0']`\n",
        "\n",
        "`4 -> ['2']`\n",
        "\n",
        "If one were to draw the corresponding graph $G$ on paper, they would see that $G$ is connected. Therefore,\n",
        "\n",
        "`is_connected(G.adj_list) = True`\n",
        "\n",
        "In order to complete this task you will need to use the given function `dfs_iter(adj_list: dict, v: str) -> list` INSIDE your `is_connected(adj_list)` function.  \n",
        "\n",
        "`dfs_iter(adj_list, v)` completes a Depth-First Search on a graph $G$'s adjacency list starting at node `v`. It will return the Depth-First Search traversal as a list.\n",
        "\n",
        "For example,\n",
        "\n",
        "`dfs_iter(G.adj_list, \"0\") = [0, 3, 2, 4, 1]`."
      ]
    },
    {
      "cell_type": "code",
      "execution_count": 28,
      "metadata": {
        "id": "JL8MYMzcIL-g"
      },
      "outputs": [],
      "source": [
        "#Execute and Lock code only - DO NOT EDIT THIS CELL\n",
        "def dfs_iter(adj_list: list, v: str):\n",
        "  visited = set((v,))\n",
        "  output = [v]\n",
        "  stack = [v]\n",
        "\n",
        "  while stack:\n",
        "    node = stack.pop()\n",
        "    if node not in visited:\n",
        "      output.append(node)\n",
        "      visited.add(node)\n",
        "    for neighbor in adj_list[node]:\n",
        "          if neighbor not in visited:\n",
        "              stack.append(neighbor)\n",
        "  return output"
      ]
    },
    {
      "cell_type": "code",
      "execution_count": 33,
      "metadata": {
        "id": "vsq7xRQ2Q5fe"
      },
      "outputs": [],
      "source": [
        "def is_connected(adj_list: dict) -> bool:\n",
        "    \n",
        "    start_node = next(iter(adj_list))  # Get any node as the starting point\n",
        "    dfs_result = dfs_iter(adj_list, start_node)  # Perform DFS\n",
        "    return len(dfs_result) == len(adj_list) # The graph is connected if the number of nodes visited by DFS equals the number of nodes in the graph"
      ]
    },
    {
      "cell_type": "code",
      "execution_count": 34,
      "metadata": {
        "colab": {
          "base_uri": "https://localhost:8080/"
        },
        "id": "0JwOtPTnRLyt",
        "outputId": "681f5405-52a2-4173-adff-2162d9adcabb"
      },
      "outputs": [
        {
          "name": "stderr",
          "output_type": "stream",
          "text": [
            "..\n",
            "----------------------------------------------------------------------\n",
            "Ran 2 tests in 0.001s\n",
            "\n",
            "OK\n"
          ]
        },
        {
          "data": {
            "text/plain": [
              "<unittest.runner.TextTestResult run=2 errors=0 failures=0>"
            ]
          },
          "execution_count": 34,
          "metadata": {},
          "output_type": "execute_result"
        }
      ],
      "source": [
        "import unittest\n",
        "\n",
        "class IsConnected(unittest.TestCase):\n",
        "    def test1_is_connected(self):\n",
        "      'test cases function for is_connected()'\n",
        "      self.assertEqual(is_connected(graph2.adj_list), True)\n",
        "\n",
        "    def test2_is_connected(self):\n",
        "      'test cases function for is_connected()'\n",
        "      self.assertEqual(is_connected(graph6.adj_list), False)\n",
        "\n",
        "runner = unittest.TextTestRunner()\n",
        "runner.run(unittest.makeSuite(IsConnected))"
      ]
    },
    {
      "cell_type": "markdown",
      "metadata": {
        "id": "ITslYH1lRPH_"
      },
      "source": [
        "### Task 10. Is Minimally Connected\n",
        "\n",
        "Write a Python function `is_minimally_connected(adj_list: dict) -> bool` that takes the following inputs:\n",
        "*   `adj_list` := the adjacency list of a graph $G$\n",
        "\n",
        "The function `is_minimally_connected(adj_list)` will output `True` if the graph $G$ is minimally connected, and `False` otherwise.\n",
        "\n",
        "For example, suppose a graph $G$ has the following adjacency list:\n",
        "\n",
        "`0 -> ['1', '2', '3']`\n",
        "\n",
        "`1 -> ['0', '2']`\n",
        "\n",
        "`2 -> ['0', '1', '4']`\n",
        "\n",
        "`3 -> ['0']`\n",
        "\n",
        "`4 -> ['2']`\n",
        "\n",
        "If one were to draw the corresponding graph $G$ on paper, they would see that $G$ is not minimally connected. Therefore,\n",
        "\n",
        "`is_minimally_connected(G.adj_list) = False`\n",
        "\n",
        "In order to complete this task you will need to use your previously written function `is_connected(adj_list)`."
      ]
    },
    {
      "cell_type": "code",
      "execution_count": 38,
      "metadata": {
        "colab": {
          "base_uri": "https://localhost:8080/"
        },
        "id": "991Amli3RXb2",
        "outputId": "a82858d6-1845-479c-adef-1963bf6f2efe"
      },
      "outputs": [],
      "source": [
        "def is_minimally_connected(adj_list: dict) -> bool:\n",
        "    # Check if the graph is connected\n",
        "    if not is_connected(adj_list):\n",
        "        return False\n",
        "    \n",
        "    num_nodes = len(adj_list) # Number of nodes\n",
        "    num_edges = sum(len(neighbors) for neighbors in adj_list.values()) // 2  # Count edges, divide by 2 since undirected\n",
        "    \n",
        "   \n",
        "    return num_edges == num_nodes - 1  # Minimally connected graphs have (n - 1) edges"
      ]
    },
    {
      "cell_type": "code",
      "execution_count": 37,
      "metadata": {
        "colab": {
          "base_uri": "https://localhost:8080/"
        },
        "id": "snUs13DWReSi",
        "outputId": "1260be48-2dab-42ae-dd24-756dbd69ad8a"
      },
      "outputs": [
        {
          "name": "stderr",
          "output_type": "stream",
          "text": [
            "..\n",
            "----------------------------------------------------------------------\n",
            "Ran 2 tests in 0.002s\n",
            "\n",
            "OK\n"
          ]
        },
        {
          "data": {
            "text/plain": [
              "<unittest.runner.TextTestResult run=2 errors=0 failures=0>"
            ]
          },
          "execution_count": 37,
          "metadata": {},
          "output_type": "execute_result"
        }
      ],
      "source": [
        "import unittest\n",
        "\n",
        "class IsMinConnected(unittest.TestCase):\n",
        "    def test1_is_minimally_connected(self):\n",
        "      'test cases function for is_minimally_connected()'\n",
        "      self.assertEqual(is_minimally_connected(graph2.adj_list), False)\n",
        "\n",
        "    def test2_is_connected(self):\n",
        "      'test cases function for is_minimally_connected()'\n",
        "      self.assertEqual(is_minimally_connected(graph7.adj_list), True)\n",
        "\n",
        "runner = unittest.TextTestRunner()\n",
        "runner.run(unittest.makeSuite(IsMinConnected))"
      ]
    }
  ],
  "metadata": {
    "colab": {
      "provenance": [],
      "toc_visible": true
    },
    "kernelspec": {
      "display_name": "Python 3",
      "name": "python3"
    },
    "language_info": {
      "codemirror_mode": {
        "name": "ipython",
        "version": 3
      },
      "file_extension": ".py",
      "mimetype": "text/x-python",
      "name": "python",
      "nbconvert_exporter": "python",
      "pygments_lexer": "ipython3",
      "version": "3.9.1"
    }
  },
  "nbformat": 4,
  "nbformat_minor": 0
}
